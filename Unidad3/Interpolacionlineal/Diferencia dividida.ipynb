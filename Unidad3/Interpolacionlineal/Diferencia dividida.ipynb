{
 "cells": [
  {
   "cell_type": "code",
   "execution_count": 30,
   "metadata": {},
   "outputs": [],
   "source": [
    "import numpy as np\n",
    "import matplotlib.pyplot as plt"
   ]
  },
  {
   "cell_type": "code",
   "execution_count": 31,
   "metadata": {},
   "outputs": [],
   "source": [
    "x_list=[1.0,1.3,1.6,1.9,2.2]\n",
    "y_list=[0.7651977,0.6200860,0.4554022,0.2818186,0.1103623]\n",
    "\n",
    "n=len(x_list)#Numero de puntos experimentales\n",
    "\n",
    "T=np.zeros((n,n))\n"
   ]
  },
  {
   "cell_type": "code",
   "execution_count": 32,
   "metadata": {},
   "outputs": [],
   "source": [
    "#Llenar la diagonal\n",
    "for i in range(0,n):\n",
    "    for j in range(0,n):\n",
    "        if i==j:\n",
    "            T[i][j]=y_list[j]\n",
    "        else:\n",
    "            continue\n",
    "\n",
    "#llenar la triangular superior\n",
    "for k in range(1,n):\n",
    "    for i in range(0,n-1):\n",
    "        for j in range(1,n):\n",
    "            if j!=i and j==i+k:\n",
    "                T[i][j]=(T[i+1][j]-T[i][j-1])/(x_list[j]-x_list[i])\n",
    "        "
   ]
  },
  {
   "cell_type": "code",
   "execution_count": 35,
   "metadata": {},
   "outputs": [
    {
     "data": {
      "image/png": "[encoded data removed]",
      "text/plain": [
       "<Figure size 432x288 with 1 Axes>"
      ]
     },
     "metadata": {
      "needs_background": "light"
     },
     "output_type": "display_data"
    }
   ],
   "source": [
    "def P(x):\n",
    "    k=0\n",
    "    m=1\n",
    "    for i in range(1,n):\n",
    "        for j in range(0,i):\n",
    "            m*=(x-x_list[j])\n",
    "        k+=T[0][i]*m\n",
    "    Fu=T[0][0]+k\n",
    "    return Fu\n",
    "xarray=np.arange(min(x_list),max(x_list),0.1)\n",
    "yarray=[P(b) for b in xarray]\n",
    "\n",
    "plt.figure()\n",
    "plt.plot(xarray,yarray,\"b-\")\n",
    "plt.plot(x_list,y_list,\"ro\")\n",
    "plt.show()"
   ]
  },
  {
   "cell_type": "code",
   "execution_count": 29,
   "metadata": {},
   "outputs": [
    {
     "data": {
      "text/plain": [
       "array([[ 0.7651977 , -0.48370567, -0.10873389,  0.0658784 ,  0.0018251 ],\n",
       "       [ 0.        ,  0.620086  , -0.548946  , -0.04944333,  0.06806852],\n",
       "       [ 0.        , -0.        ,  0.4554022 , -0.578612  ,  0.01181833],\n",
       "       [ 0.        , -0.        , -0.        ,  0.2818186 , -0.571521  ],\n",
       "       [ 0.        ,  0.        ,  0.        ,  0.        ,  0.1103623 ]])"
      ]
     },
     "execution_count": 29,
     "metadata": {},
     "output_type": "execute_result"
    }
   ],
   "source": [
    "T"
   ]
  },
  {
   "cell_type": "code",
   "execution_count": null,
   "metadata": {},
   "outputs": [],
   "source": []
  }
 ],
 "metadata": {
  "kernelspec": {
   "display_name": "Python 3",
   "language": "python",
   "name": "python3"
  },
  "language_info": {
   "codemirror_mode": {
    "name": "ipython",
    "version": 3
   },
   "file_extension": ".py",
   "mimetype": "text/x-python",
   "name": "python",
   "nbconvert_exporter": "python",
   "pygments_lexer": "ipython3",
   "version": "3.6.6"
  }
 },
 "nbformat": 4,
 "nbformat_minor": 2
}
